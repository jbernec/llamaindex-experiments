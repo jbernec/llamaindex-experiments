{
 "cells": [
  {
   "cell_type": "markdown",
   "metadata": {
    "application/vnd.databricks.v1+cell": {
     "cellMetadata": {},
     "inputWidgets": {},
     "nuid": "3ff9db2c-87fa-4944-9cf5-4288ce21e7dd",
     "showTitle": false,
     "title": ""
    }
   },
   "source": [
    "### Process and upload Claims data chunks to existing Azure AI Search index using Llama libraries."
   ]
  },
  {
   "cell_type": "code",
   "execution_count": 0,
   "metadata": {
    "application/vnd.databricks.v1+cell": {
     "cellMetadata": {},
     "inputWidgets": {},
     "nuid": "9a5caa96-50c0-47f4-a8c9-51c28cd9e2c5",
     "showTitle": false,
     "title": ""
    }
   },
   "outputs": [],
   "source": [
    "from azure.keyvault.secrets import SecretClient\n",
    "from azure.identity import DefaultAzureCredential\n",
    "from llama_parse import LlamaParse\n",
    "from llama_index.core.node_parser import MarkdownElementNodeParser\n",
    "from llama_index.core.readers import SimpleDirectoryReader\n",
    "import os\n",
    "\n",
    "\n",
    "keyVaultName = os.environ[\"KEY_VAULT_NAME\"]\n",
    "KVUri = f\"https://{keyVaultName}.vault.azure.net\"\n",
    "\n",
    "credential = DefaultAzureCredential()\n",
    "client = SecretClient(vault_url=KVUri, credential=credential)\n",
    "client.get_secret(name=\"aoai-endpoint\").value\n",
    "# base_url: str = 'https://api.cloud.llamaindex.ai'\n",
    "parser = LlamaParse(\n",
    "    result_type=\"markdown\",\n",
    "    parsing_instruction=\"This is an auto insurance claim document.\",\n",
    "    use_vendor_multimodal_model=True,\n",
    "    vendor_multimodal_model_name= \"openai-gpt-4o-mini\",\n",
    "    vendor_multimodal_api_key= client.get_secret(name=\"openai-apikey\").value,\n",
    "    api_key = client.get_secret(name=\"llamacloudkey\").value\n",
    ")"
   ]
  },
  {
   "cell_type": "code",
   "execution_count": 0,
   "metadata": {
    "application/vnd.databricks.v1+cell": {
     "cellMetadata": {},
     "inputWidgets": {},
     "nuid": "cd639ed5-bacf-4f3d-94fd-15d0c862be29",
     "showTitle": false,
     "title": ""
    }
   },
   "outputs": [],
   "source": [
    "import nest_asyncio; nest_asyncio.apply()\n",
    "\n",
    "file_path = \"C:\\\\source\\\\github\\\\llamaparse\\\\insurance-claims-rag-data\\\\*.pdf\"\n",
    "CLAIMS_DIR = \"insurance-claims-rag-data\"\n",
    "\n",
    "\n",
    "def get_claims_files(claims_dir=CLAIMS_DIR) -> list[str]:\n",
    "    files = []\n",
    "    for f in os.listdir(claims_dir):\n",
    "        fname = os.path.join(claims_dir, f)\n",
    "        if os.path.isfile(fname):\n",
    "            files.append(fname)\n",
    "    return files\n",
    "files = get_claims_files()  # get all files from the claims/ directory"
   ]
  },
  {
   "cell_type": "code",
   "execution_count": 0,
   "metadata": {
    "application/vnd.databricks.v1+cell": {
     "cellMetadata": {},
     "inputWidgets": {},
     "nuid": "272f1cd7-f600-4629-a974-78752531b648",
     "showTitle": false,
     "title": ""
    }
   },
   "outputs": [],
   "source": [
    "files"
   ]
  },
  {
   "cell_type": "code",
   "execution_count": 0,
   "metadata": {
    "application/vnd.databricks.v1+cell": {
     "cellMetadata": {},
     "inputWidgets": {},
     "nuid": "1e72d528-2854-449e-a17e-142132385294",
     "showTitle": false,
     "title": ""
    }
   },
   "outputs": [],
   "source": [
    "md_json_objs = parser.get_json_result(\n",
    "    files\n",
    ")  # extract markdown data for insurance claim document"
   ]
  },
  {
   "cell_type": "code",
   "execution_count": 0,
   "metadata": {
    "application/vnd.databricks.v1+cell": {
     "cellMetadata": {},
     "inputWidgets": {},
     "nuid": "bbb765d9-5db8-4836-aff3-b25f4381b969",
     "showTitle": false,
     "title": ""
    }
   },
   "outputs": [],
   "source": [
    "md_json_objs"
   ]
  },
  {
   "cell_type": "code",
   "execution_count": 0,
   "metadata": {
    "application/vnd.databricks.v1+cell": {
     "cellMetadata": {},
     "inputWidgets": {},
     "nuid": "791fafbc-e466-4d24-92a1-6581d306f4c2",
     "showTitle": false,
     "title": ""
    }
   },
   "outputs": [],
   "source": [
    "\n",
    "parsed_images = parser.get_images(\n",
    "    md_json_objs, download_path=\"data_images\"\n",
    ")  # extract images from PDFs and save them to ./data_images/"
   ]
  },
  {
   "cell_type": "code",
   "execution_count": 0,
   "metadata": {
    "application/vnd.databricks.v1+cell": {
     "cellMetadata": {},
     "inputWidgets": {},
     "nuid": "4dce73b6-3c42-416e-af64-5ddc1a79f791",
     "showTitle": false,
     "title": ""
    }
   },
   "outputs": [],
   "source": [
    "mylist = []\n",
    "help(mylist.extend)"
   ]
  },
  {
   "cell_type": "code",
   "execution_count": 0,
   "metadata": {
    "application/vnd.databricks.v1+cell": {
     "cellMetadata": {},
     "inputWidgets": {},
     "nuid": "35a303de-e5e1-4cf8-ad34-f79d484a5400",
     "showTitle": false,
     "title": ""
    }
   },
   "outputs": [],
   "source": [
    "# extract list of pages for insurance claim doc\n",
    "md_json_list = []\n",
    "for obj in md_json_objs:\n",
    "    md_json_list.extend(obj[\"pages\"])"
   ]
  },
  {
   "cell_type": "code",
   "execution_count": 0,
   "metadata": {
    "application/vnd.databricks.v1+cell": {
     "cellMetadata": {},
     "inputWidgets": {},
     "nuid": "a5024ec3-9ef1-4a41-a606-2bdc48fa07e0",
     "showTitle": false,
     "title": ""
    }
   },
   "outputs": [],
   "source": [
    "md_json_list"
   ]
  },
  {
   "cell_type": "markdown",
   "metadata": {
    "application/vnd.databricks.v1+cell": {
     "cellMetadata": {},
     "inputWidgets": {},
     "nuid": "171c2ae0-4695-4f84-98dd-9cf5fe8159b0",
     "showTitle": false,
     "title": ""
    }
   },
   "source": [
    "#### Create helper functions to create a list of TextNodes from the markdown tables to feed into the VectorStoreIndex."
   ]
  },
  {
   "cell_type": "code",
   "execution_count": 0,
   "metadata": {
    "application/vnd.databricks.v1+cell": {
     "cellMetadata": {},
     "inputWidgets": {},
     "nuid": "8adeddd4-3969-4a8e-8a1e-52bcd643a3d5",
     "showTitle": false,
     "title": ""
    }
   },
   "outputs": [],
   "source": [
    "import re\n",
    "from pathlib import Path\n",
    "import typing as t\n",
    "from llama_index.core.schema import TextNode, ImageNode\n",
    "\n",
    "\n",
    "def get_page_number(file_name):\n",
    "    \"\"\"Gets page number of images using regex on file names\"\"\"\n",
    "    match = re.search(r\"-page-(\\d+)\\.jpg$\", str(file_name))\n",
    "    if match:\n",
    "        return int(match.group(1))\n",
    "    return 0\n",
    "\n",
    "\n",
    "def _get_sorted_image_files(image_dir):\n",
    "    \"\"\"Get image files sorted by page.\"\"\"\n",
    "    raw_files = [f for f in list(Path(image_dir).iterdir()) if f.is_file()]\n",
    "    sorted_files = sorted(raw_files, key=get_page_number)\n",
    "    return sorted_files\n",
    "\n",
    "\n",
    "def get_text_nodes(json_dicts, image_dir) -> t.List[TextNode]:\n",
    "    \"\"\"Creates nodes from json + images\"\"\"\n",
    "\n",
    "    nodes = []\n",
    "\n",
    "    docs = [doc[\"md\"] for doc in json_dicts]  # extract text\n",
    "    image_files = _get_sorted_image_files(image_dir)  # extract images\n",
    "\n",
    "    for idx, doc in enumerate(docs):\n",
    "        # adds both a text node and the corresponding image node (jpg of the page) for each page\n",
    "        node = TextNode(\n",
    "            text=doc,\n",
    "            metadata={\"image_path\": str(image_files[idx]), \"page_num\": idx + 1},\n",
    "        )\n",
    "        image_node = ImageNode(\n",
    "            image_path=str(image_files[idx]),\n",
    "            metadata={\"page_num\": idx + 1, \"text_node_id\": node.id_},\n",
    "        )\n",
    "        nodes.extend([node, image_node])\n",
    "\n",
    "    return nodes\n",
    "\n",
    "\n",
    "text_nodes = get_text_nodes(md_json_list, \"data_images\")"
   ]
  },
  {
   "cell_type": "code",
   "execution_count": 0,
   "metadata": {
    "application/vnd.databricks.v1+cell": {
     "cellMetadata": {},
     "inputWidgets": {},
     "nuid": "df478bdd-8ab2-4415-bbfc-c9062c957e7f",
     "showTitle": false,
     "title": ""
    }
   },
   "outputs": [],
   "source": [
    "text_nodes"
   ]
  },
  {
   "cell_type": "markdown",
   "metadata": {
    "application/vnd.databricks.v1+cell": {
     "cellMetadata": {},
     "inputWidgets": {},
     "nuid": "8768d418-cfc0-4b37-bb56-fe1576ae02c7",
     "showTitle": false,
     "title": ""
    }
   },
   "source": [
    "#### Import vector and ai search packages"
   ]
  },
  {
   "cell_type": "code",
   "execution_count": 0,
   "metadata": {
    "application/vnd.databricks.v1+cell": {
     "cellMetadata": {},
     "inputWidgets": {},
     "nuid": "2260fb9d-9943-4c65-b8f1-49738668be38",
     "showTitle": false,
     "title": ""
    }
   },
   "outputs": [],
   "source": [
    "import logging\n",
    "import sys\n",
    "from azure.core.credentials import AzureKeyCredential\n",
    "from azure.search.documents import SearchClient\n",
    "from azure.search.documents.indexes import SearchIndexClient\n",
    "from IPython.display import Markdown, display\n",
    "from llama_index.core import (\n",
    "    SimpleDirectoryReader,\n",
    "    StorageContext,\n",
    "    VectorStoreIndex,\n",
    ")\n",
    "from llama_index.core.settings import Settings\n",
    "\n",
    "from llama_index.llms.azure_openai import AzureOpenAI\n",
    "from llama_index.embeddings.azure_openai import AzureOpenAIEmbedding\n",
    "from llama_index.vector_stores.azureaisearch import AzureAISearchVectorStore\n",
    "from llama_index.vector_stores.azureaisearch import (\n",
    "    IndexManagement,\n",
    "    MetadataIndexFieldType,\n",
    ")\n",
    "from llama_index.core.vector_stores.types import VectorStoreQueryMode"
   ]
  },
  {
   "cell_type": "code",
   "execution_count": 0,
   "metadata": {
    "application/vnd.databricks.v1+cell": {
     "cellMetadata": {},
     "inputWidgets": {},
     "nuid": "da732eec-29a4-4903-871e-64c0c38d5783",
     "showTitle": false,
     "title": ""
    }
   },
   "outputs": [],
   "source": [
    "# Create azure open ai embedding\n",
    "\n",
    "\"\"\"\n",
    "This code loads and sets the necessary variables for Azure services.\n",
    "The variables are loaded from Azure Key Vault.\n",
    "\"\"\"\n",
    "\n",
    "from llama_index.embeddings.azure_openai import AzureOpenAIEmbedding\n",
    "\n",
    "azure_openai_endpoint=client.get_secret(name=\"aoai-endpoint\").value\n",
    "azure_openai_api_key=client.get_secret(name=\"aoai-api-key\").value\n",
    "azure_openai_api_version = \"2024-02-15-preview\"\n",
    "azure_openai_embedding_deployment = client.get_secret(name=\"aoai-embedding-deployment\").value\n",
    "search_credential = AzureKeyCredential(client.get_secret(name=\"aisearch-adminkey\").value)\n",
    "search_endpoint = client.get_secret(name=\"aisearch-endpoint\").value\n",
    "\n",
    "\n",
    "azure_openai_client = AzureOpenAI(\n",
    "        model=client.get_secret(name=\"aoai-deploymentname\").value,\n",
    "        api_key=azure_openai_api_key, \n",
    "        api_version=azure_openai_api_version,\n",
    "        azure_deployment=client.get_secret(name=\"aoai-deploymentname\").value,\n",
    "        azure_endpoint=azure_openai_endpoint)\n",
    "    \n",
    "\n",
    "# You need to deploy your own embedding model as well as your own chat completion model\n",
    "embed_model = AzureOpenAIEmbedding(\n",
    "    model=\"text-embedding-ada-002\",\n",
    "    deployment_name=azure_openai_embedding_deployment,\n",
    "    api_key=azure_openai_api_key,\n",
    "    azure_endpoint=azure_openai_endpoint,\n",
    "    api_version=\"2024-02-15-preview\"\n",
    ")"
   ]
  },
  {
   "cell_type": "markdown",
   "metadata": {
    "application/vnd.databricks.v1+cell": {
     "cellMetadata": {},
     "inputWidgets": {},
     "nuid": "835675c0-948b-4883-ae98-2d58335900b9",
     "showTitle": false,
     "title": ""
    }
   },
   "source": [
    "#### Setup Azure AI Search"
   ]
  },
  {
   "cell_type": "code",
   "execution_count": 0,
   "metadata": {
    "application/vnd.databricks.v1+cell": {
     "cellMetadata": {},
     "inputWidgets": {},
     "nuid": "2492ea47-afcf-45f3-a60f-258f7989224e",
     "showTitle": false,
     "title": ""
    }
   },
   "outputs": [],
   "source": [
    "# Index name to use\n",
    "index_name = \"llama-insurance-index\"\n",
    "\n",
    "# Use index client to demonstrate creating an index\n",
    "index_client = SearchIndexClient(\n",
    "    endpoint=search_endpoint,\n",
    "    credential=search_credential,\n",
    ")\n",
    "\n",
    "# Use search client to demonstration using existing index\n",
    "search_client = SearchClient(\n",
    "    endpoint=search_endpoint,\n",
    "    index_name=index_name,\n",
    "    credential=search_credential,\n",
    ")"
   ]
  },
  {
   "cell_type": "markdown",
   "metadata": {
    "application/vnd.databricks.v1+cell": {
     "cellMetadata": {},
     "inputWidgets": {},
     "nuid": "08a76044-7e26-45e1-8aa5-ec8562884075",
     "showTitle": false,
     "title": ""
    }
   },
   "source": [
    "#### Use Existing Index"
   ]
  },
  {
   "cell_type": "code",
   "execution_count": 0,
   "metadata": {
    "application/vnd.databricks.v1+cell": {
     "cellMetadata": {},
     "inputWidgets": {},
     "nuid": "4151200a-bbb3-424a-b068-df2ad147e000",
     "showTitle": false,
     "title": ""
    }
   },
   "outputs": [],
   "source": [
    "\n",
    "vector_store = AzureAISearchVectorStore(\n",
    "    search_or_index_client=search_client,\n",
    "    index_management=IndexManagement.VALIDATE_INDEX,\n",
    "    id_field_key=\"id\",\n",
    "    chunk_field_key=\"chunk\",\n",
    "    embedding_field_key=\"embedding\",\n",
    "    embedding_dimensionality=1536,\n",
    "    metadata_string_field_key=\"metadata\",\n",
    "    doc_id_field_key=\"doc_id\",\n",
    ")"
   ]
  },
  {
   "cell_type": "code",
   "execution_count": 0,
   "metadata": {
    "application/vnd.databricks.v1+cell": {
     "cellMetadata": {},
     "inputWidgets": {},
     "nuid": "fc9acfee-a815-4187-92d1-4403e4829406",
     "showTitle": false,
     "title": ""
    }
   },
   "outputs": [],
   "source": [
    "# storage_context = StorageContext.from_defaults(vector_store=vector_store)\n",
    "storage_context = StorageContext.from_defaults(vector_store=vector_store)"
   ]
  },
  {
   "cell_type": "code",
   "execution_count": 0,
   "metadata": {
    "application/vnd.databricks.v1+cell": {
     "cellMetadata": {},
     "inputWidgets": {},
     "nuid": "2811cd92-b500-496f-bba5-3041e95eebe4",
     "showTitle": false,
     "title": ""
    }
   },
   "outputs": [],
   "source": [
    "Settings.llm = azure_openai_client"
   ]
  },
  {
   "cell_type": "code",
   "execution_count": 0,
   "metadata": {
    "application/vnd.databricks.v1+cell": {
     "cellMetadata": {},
     "inputWidgets": {},
     "nuid": "27e2f3fc-58f9-4388-aefd-8879cbd6fee4",
     "showTitle": false,
     "title": ""
    }
   },
   "outputs": [],
   "source": [
    "Settings.embed_model = embed_model"
   ]
  },
  {
   "cell_type": "markdown",
   "metadata": {
    "application/vnd.databricks.v1+cell": {
     "cellMetadata": {},
     "inputWidgets": {},
     "nuid": "7f71bb4f-5dd7-46c3-ac1f-f285c84051d0",
     "showTitle": false,
     "title": ""
    }
   },
   "source": [
    "#### Upload claims data chunks to existing Azure AI Search Index"
   ]
  },
  {
   "cell_type": "code",
   "execution_count": 0,
   "metadata": {
    "application/vnd.databricks.v1+cell": {
     "cellMetadata": {},
     "inputWidgets": {},
     "nuid": "d262dcf2-6f24-49b9-a4c4-7b755a55b459",
     "showTitle": false,
     "title": ""
    }
   },
   "outputs": [],
   "source": [
    "index = VectorStoreIndex(text_nodes, embed_model=embed_model, storage_context=storage_context)"
   ]
  },
  {
   "cell_type": "code",
   "execution_count": 0,
   "metadata": {
    "application/vnd.databricks.v1+cell": {
     "cellMetadata": {},
     "inputWidgets": {},
     "nuid": "51e02dd3-cb6c-47c8-a500-5c58c27845ad",
     "showTitle": false,
     "title": ""
    }
   },
   "outputs": [],
   "source": [
    "# Query Data\n",
    "query_engine = index.as_query_engine(similarity_top_k=3)"
   ]
  },
  {
   "cell_type": "markdown",
   "metadata": {
    "application/vnd.databricks.v1+cell": {
     "cellMetadata": {},
     "inputWidgets": {},
     "nuid": "063365f1-ff67-45d1-a798-06cd3abae9af",
     "showTitle": false,
     "title": ""
    }
   },
   "source": [
    "#### Start example queries"
   ]
  },
  {
   "cell_type": "code",
   "execution_count": 0,
   "metadata": {
    "application/vnd.databricks.v1+cell": {
     "cellMetadata": {},
     "inputWidgets": {},
     "nuid": "1eb045d0-379e-4287-9d3f-3645b383efea",
     "showTitle": false,
     "title": ""
    }
   },
   "outputs": [],
   "source": [
    "from IPython.display import display, Markdown\n",
    "\n",
    "response = query_engine.query(\n",
    "    \"Who filed the insurance claim for the accident that happened on Sunset Blvd?\"\n",
    ")\n",
    "display(Markdown(str(response)))"
   ]
  },
  {
   "cell_type": "code",
   "execution_count": 0,
   "metadata": {
    "application/vnd.databricks.v1+cell": {
     "cellMetadata": {},
     "inputWidgets": {},
     "nuid": "638240da-9926-49e1-86a2-ddbf6e8e1fcd",
     "showTitle": false,
     "title": ""
    }
   },
   "outputs": [],
   "source": [
    "from IPython.display import display, Markdown\n",
    "\n",
    "response = query_engine.query(\n",
    "    \"Did Ms. Johnson sustain any injuries?\"\n",
    ")\n",
    "display(Markdown(str(response)))"
   ]
  },
  {
   "cell_type": "markdown",
   "metadata": {
    "application/vnd.databricks.v1+cell": {
     "cellMetadata": {},
     "inputWidgets": {},
     "nuid": "81315a09-f3c9-4904-ab2a-a23647e76acc",
     "showTitle": false,
     "title": ""
    }
   },
   "source": [
    "#### Setup Autogen AI Agents"
   ]
  },
  {
   "cell_type": "code",
   "execution_count": 0,
   "metadata": {
    "application/vnd.databricks.v1+cell": {
     "cellMetadata": {},
     "inputWidgets": {},
     "nuid": "e86fefb4-9fbd-4538-a13b-e30fcc3df525",
     "showTitle": false,
     "title": ""
    }
   },
   "outputs": [],
   "source": [
    "from autogen import AssistantAgent, UserProxyAgent, register_function\n",
    "from typing_extensions import List, Annotated\n",
    "import autogen\n",
    "from azure.search.documents.models import VectorizableTextQuery\n",
    "from azure.search.documents.models import (\n",
    "    QueryType,\n",
    "    QueryCaptionType,\n",
    "    QueryAnswerType\n",
    ")"
   ]
  },
  {
   "cell_type": "code",
   "execution_count": 0,
   "metadata": {
    "application/vnd.databricks.v1+cell": {
     "cellMetadata": {},
     "inputWidgets": {},
     "nuid": "387a9842-458d-406b-ad94-ba8cd2623ad3",
     "showTitle": false,
     "title": ""
    }
   },
   "outputs": [],
   "source": [
    "llm_config = {\n",
    "    \"config_list\": [\n",
    "        {\n",
    "            \"model\": client.get_secret(name=\"aoai-deploymentname\").value,\n",
    "            \"api_key\": client.get_secret(name=\"aoai-api-key\").value,\n",
    "            \"base_url\": client.get_secret(name=\"aoai-endpoint\").value,\n",
    "            \"api_type\": \"azure\",\n",
    "            \"api_version\": \"2024-02-15-preview\",\n",
    "        },\n",
    "    ]\n",
    "}\n",
    "\n",
    "gpt4_config = {\n",
    "    \"cache_seed\": 42,\n",
    "    \"temperature\": 0,\n",
    "    \"config_list\": llm_config[\"config_list\"],\n",
    "    \"timeout\": 120\n",
    "}\n",
    "\n",
    "\n",
    "ai_search_agent = AssistantAgent(\n",
    "    name=\"AISearchAssistant\",\n",
    "    system_message=\"You are a helpful AI agent.\"\n",
    "    \"You can help with Azure AI Search service.\"\n",
    "    \"Return TERMINATE when the task is done\",\n",
    "    llm_config=gpt4_config,\n",
    ")\n",
    "\n",
    "user_proxy = UserProxyAgent(\n",
    "    name=\"User\",\n",
    "    is_termination_msg=lambda x: \"terminate\" in x.get(\"content\", \"\").lower()\n",
    "    if x.get(\"content\", \"\") is not None\n",
    "    else False,\n",
    "    human_input_mode=\"NEVER\",\n",
    "    max_consecutive_auto_reply=10,\n",
    "    code_execution_config=False,\n",
    ")"
   ]
  },
  {
   "cell_type": "markdown",
   "metadata": {
    "application/vnd.databricks.v1+cell": {
     "cellMetadata": {},
     "inputWidgets": {},
     "nuid": "f27fb7cc-53f8-47ca-9833-2639f0003969",
     "showTitle": false,
     "title": ""
    }
   },
   "source": [
    "#### Define custom function for function calling."
   ]
  },
  {
   "cell_type": "code",
   "execution_count": 0,
   "metadata": {
    "application/vnd.databricks.v1+cell": {
     "cellMetadata": {},
     "inputWidgets": {},
     "nuid": "76103e65-c00d-4289-8f0f-b5c17e17ffe2",
     "showTitle": false,
     "title": ""
    }
   },
   "outputs": [],
   "source": [
    "@user_proxy.register_for_execution()\n",
    "@ai_search_agent.register_for_llm(\n",
    "    description=\"A tool or function for search retrieval from Azure AI Search\"\n",
    ")\n",
    "def search_retrieval(user_input:str) -> str:\n",
    "        \"\"\"\n",
    "        Search and retrieve answers from Azure AI Search.\n",
    "        Returns:\n",
    "            str\n",
    "        \"\"\"\n",
    "        query = user_input\n",
    "        search_client = SearchClient(endpoint=search_endpoint, index_name=index_name, credential=search_credential)\n",
    "        vector_query = VectorizableTextQuery(text=query, k_nearest_neighbors=5, fields=\"embedding\", exhaustive=True)\n",
    "\n",
    "        r = search_client.search(  \n",
    "        search_text=query,\n",
    "        vector_queries=[vector_query],\n",
    "        select=[\"id\", \"chunk\"],\n",
    "        query_type=QueryType.SEMANTIC,\n",
    "        semantic_configuration_name='mySemanticConfig',\n",
    "        query_caption=QueryCaptionType.EXTRACTIVE,\n",
    "        query_answer=QueryAnswerType.EXTRACTIVE,\n",
    "        top=1\n",
    "    )\n",
    "        #query_result = results.get_answers()[0].text\n",
    "        results = [doc[\"chunk\"].replace(\"\\n\", \"\").replace(\"\\r\", \"\") for doc in r]\n",
    "        content = \"\\n\".join(results)\n",
    "        return content"
   ]
  },
  {
   "cell_type": "markdown",
   "metadata": {
    "application/vnd.databricks.v1+cell": {
     "cellMetadata": {},
     "inputWidgets": {},
     "nuid": "5ce0293a-fa0d-4d99-85b8-6f82876248fc",
     "showTitle": false,
     "title": ""
    }
   },
   "source": [
    "#### Initiate agent chat"
   ]
  },
  {
   "cell_type": "code",
   "execution_count": 0,
   "metadata": {
    "application/vnd.databricks.v1+cell": {
     "cellMetadata": {},
     "inputWidgets": {},
     "nuid": "9e731fe7-33a3-4b39-be15-0299cf6c125d",
     "showTitle": false,
     "title": ""
    }
   },
   "outputs": [],
   "source": [
    "message = \"Search for 'How did Ms. Patel's accident happen' in the above defined index?\"\n",
    "\n",
    "agent_response = await user_proxy.a_initiate_chat(recipient=ai_search_agent, message=message)"
   ]
  },
  {
   "cell_type": "code",
   "execution_count": 0,
   "metadata": {
    "application/vnd.databricks.v1+cell": {
     "cellMetadata": {},
     "inputWidgets": {},
     "nuid": "6e928a13-aa29-4c8e-9770-a6188ee55acc",
     "showTitle": false,
     "title": ""
    }
   },
   "outputs": [],
   "source": [
    "message = \"Search for 'Who filed the insurance claim for the accident that happened on Sunset Blvd?' in the above defined index?\"\n",
    "\n",
    "agent_response = await user_proxy.a_initiate_chat(recipient=ai_search_agent, message=message)"
   ]
  }
 ],
 "metadata": {
  "application/vnd.databricks.v1+notebook": {
   "dashboards": [],
   "environmentMetadata": null,
   "language": "python",
   "notebookMetadata": {
    "pythonIndentUnit": 4
   },
   "notebookName": "auto-insurance-llama-rag-pipeline",
   "widgets": {}
  },
  "kernelspec": {
   "display_name": "genai",
   "language": "python",
   "name": "python3"
  },
  "language_info": {
   "codemirror_mode": {
    "name": "ipython",
    "version": 3
   },
   "file_extension": ".py",
   "mimetype": "text/x-python",
   "name": "python",
   "nbconvert_exporter": "python",
   "pygments_lexer": "ipython3",
   "version": "3.12.4"
  }
 },
 "nbformat": 4,
 "nbformat_minor": 0
}
